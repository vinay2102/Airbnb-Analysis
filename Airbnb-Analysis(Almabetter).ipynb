{
  "nbformat": 4,
  "nbformat_minor": 0,
  "metadata": {
    "colab": {
      "private_outputs": true,
      "provenance": [],
      "collapsed_sections": [
        "vncDsAP0Gaoa",
        "FJNUwmbgGyua",
        "yQaldy8SH6Dl",
        "mDgbUHAGgjLW",
        "HhfV-JJviCcP",
        "Y3lxredqlCYt",
        "x71ZqKXriCWQ",
        "7hBIi_osiCS2",
        "JlHwYmJAmNHm",
        "35m5QtbWiB9F",
        "PoPl-ycgm1ru",
        "H0kj-8xxnORC",
        "nA9Y7ga8ng1Z",
        "bKJF3rekwFvQ",
        "0wOQAZs5pc--",
        "K5QZ13OEpz2H",
        "-JiQyfWJYklI",
        "fge-S5ZAYoAp",
        "85gYPyotYoAp",
        "RoGjAbkUYoAp",
        "iky9q4vBYrdO",
        "F6T5p64dYrdO",
        "y-Ehk30pYrdP",
        "QHF8YVU7Yuh3",
        "GwzvFGzlYuh3",
        "qYpmQ266Yuh3",
        "bbFf2-_FphqN",
        "_ouA3fa0phqN",
        "Seke61FWphqN",
        "t27r6nlMphqO",
        "r2jJGEOYphqO",
        "b0JNsNcRphqO",
        "jj7wYXLtphqO",
        "eZrbJ2SmphqO",
        "rFu4xreNphqO",
        "gCFgpxoyphqP",
        "OVtJsKN_phqQ",
        "lssrdh5qphqQ",
        "1M8mcRywphqQ",
        "tgIPom80phqQ",
        "JMzcOPDDphqR",
        "X_VqEhTip1ck",
        "8zGJKyg5p1ck",
        "PVzmfK_Ep1ck",
        "M7G43BXep1ck",
        "E6MkPsBcp1cl",
        "2cELzS2fp1cl",
        "3MPXvC8up1cl",
        "UV0SzAkaZNRQ",
        "YPEH6qLeZNRQ",
        "q29F0dvdveiT",
        "EXh0U9oCveiU",
        "22aHeOlLveiV",
        "8G2x9gOozGDZ",
        "gCX9965dhzqZ",
        "gIfDvo9L0UH2"
      ],
      "include_colab_link": true
    },
    "kernelspec": {
      "name": "python3",
      "display_name": "Python 3"
    },
    "language_info": {
      "name": "python"
    }
  },
  "cells": [
    {
      "cell_type": "markdown",
      "metadata": {
        "id": "view-in-github",
        "colab_type": "text"
      },
      "source": [
        "<a href=\"https://colab.research.google.com/github/vinay2102/Airbnb-Analysis/blob/main/Airbnb-Analysis(Almabetter).ipynb\" target=\"_parent\"><img src=\"https://colab.research.google.com/assets/colab-badge.svg\" alt=\"Open In Colab\"/></a>"
      ]
    },
    {
      "cell_type": "markdown",
      "source": [
        "# **Project Name**    - Airbnb-Analysis-Capstone-Project\n",
        "\n"
      ],
      "metadata": {
        "id": "vncDsAP0Gaoa"
      }
    },
    {
      "cell_type": "markdown",
      "source": [
        "##### **Project Type**    - EDA\n",
        "##### **Contribution**    - Team\n",
        "##### **Team Member 1 -** Vinay\n",
        "##### **Team Member 2 -** Rohan"
      ],
      "metadata": {
        "id": "beRrZCGUAJYm"
      }
    },
    {
      "cell_type": "markdown",
      "source": [
        "# **Project Summary -**"
      ],
      "metadata": {
        "id": "FJNUwmbgGyua"
      }
    },
    {
      "cell_type": "markdown",
      "source": [
        "Since 2008, guests and hosts have used Airbnb to expand on traveling possibilities and present a more unique, personalized way of experiencing the world. Today, Airbnb became one of a kind service that is used and recognized by the whole world. Data analysis on millions of listings provided through Airbnb is a crucial factor for the company. These millions of listings generate a lot of data - data that can be analyzed and used for security, business decisions, understanding of customers' and providers' (hosts) behavior and performance on the platform, guiding marketing initiatives, implementation of innovative additional services and much more.\n",
        "\n",
        "This dataset has around 49,000 observations in it with 16 columns and it is a mix between categorical and numeric values.\n",
        "\n",
        "Explore and analyze the data to discover key understandings (not limited to these) such as :\n",
        "\n",
        "What can we learn about different hosts and areas?\n",
        "\n",
        "What can we learn from predictions? (ex: locations, prices, reviews, etc)\n",
        "\n",
        "Which hosts are the busiest and why?\n",
        "\n",
        "Is there any noticeable difference of traffic among different areas and what could be the reason for it?"
      ],
      "metadata": {
        "id": "F6v_1wHtG2nS"
      }
    },
    {
      "cell_type": "markdown",
      "source": [
        "# **GitHub Link -**"
      ],
      "metadata": {
        "id": "w6K7xa23Elo4"
      }
    },
    {
      "cell_type": "markdown",
      "source": [],
      "metadata": {
        "id": "h1o69JH3Eqqn"
      }
    },
    {
      "cell_type": "markdown",
      "source": [
        "# **Problem Statement**\n"
      ],
      "metadata": {
        "id": "yQaldy8SH6Dl"
      }
    },
    {
      "cell_type": "markdown",
      "source": [
        "Let us assume that my dad is a wealthy individual and is looking to make some investments in real estate. He has heard from his colleagues that the New York City real estate market has been thriving and makes good enough ROI(return on investment). Being in India, my dad is quite skeptical about investing in New York and leaving the property abandoned, He also wants some cash flow to be generated out of the property every now and then. To get out of this dilemma my dad calls his old friend, Mr Robert Kiyosaki (author of the book Rich Dad Poor Dad), he advices my dad to buy the property and list it on some rental services like \"Airbnb\". My dad after listening to his friend comes and asks me \"Son, what is Airbnb?\"\n",
        "\n",
        "Defining Airbnb - Airbnb is an online marketplace connecting travelers with local hosts. On one side, the platform enables people to list their available space and earn extra income in the form of rent. On the other, Airbnb enables travelers to book unique homestays from local hosts, saving them money and giving them a chance to interact with locals. Catering to the on-demand travel industry, Airbnb is present in over 190 countries across the world.\n",
        "\n",
        "After this professional explanation to my dad, he is quite happy about the opportunity his friend has opened up for him. Now he wants answers to his questions from the business point of view. He asks to me find out a few unique details about the New York Airbnb market, for example:- Which part of New York generates the most revenue, etc. Now, me being a data scientist I decide to tackle this problem through the art of Data Science and make my Indian parent proud(Probably the most hypothetical thing I've mentioned till now).\n"
      ],
      "metadata": {
        "id": "DpeJGUA3kjGy"
      }
    },
    {
      "cell_type": "markdown",
      "source": [],
      "metadata": {
        "id": "9X2sltV9VvLc"
      }
    },
    {
      "cell_type": "markdown",
      "source": [
        "#### **Define Your Business Objective?**"
      ],
      "metadata": {
        "id": "PH-0ReGfmX4f"
      }
    },
    {
      "cell_type": "markdown",
      "source": [
        "Our business objective is to leverage data-driven insights from the Airbnb dataset to optimize rental property performance and enhance guest satisfaction. By analyzing key factors such as location, property type, pricing, and customer reviews, we aim to identify trends and patterns that can inform strategic decision-making. Our goal is to maximize occupancy rates, increase rental revenues, and improve the overall guest experience. Through targeted marketing efforts and operational enhancements, we seek to position our properties competitively within the market and achieve sustainable growth."
      ],
      "metadata": {
        "id": "PhDvGCAqmjP1"
      }
    },
    {
      "cell_type": "markdown",
      "source": [
        "# **General Guidelines** : -  "
      ],
      "metadata": {
        "id": "mDgbUHAGgjLW"
      }
    },
    {
      "cell_type": "markdown",
      "source": [
        "1.   Well-structured, formatted, and commented code is required.\n",
        "2.   Exception Handling, Production Grade Code & Deployment Ready Code will be a plus. Those students will be awarded some additional credits.\n",
        "     \n",
        "     The additional credits will have advantages over other students during Star Student selection.\n",
        "       \n",
        "             [ Note: - Deployment Ready Code is defined as, the whole .ipynb notebook should be executable in one go\n",
        "                       without a single error logged. ]\n",
        "\n",
        "3.   Each and every logic should have proper comments.\n",
        "4. You may add as many number of charts you want. Make Sure for each and every chart the following format should be answered.\n",
        "        \n",
        "\n",
        "```\n",
        "# Chart visualization code\n",
        "```\n",
        "            \n",
        "\n",
        "*   Why did you pick the specific chart?\n",
        "*   What is/are the insight(s) found from the chart?\n",
        "* Will the gained insights help creating a positive business impact?\n",
        "Are there any insights that lead to negative growth? Justify with specific reason.\n",
        "\n",
        "5. You have to create at least 20 logical & meaningful charts having important insights.\n",
        "\n",
        "\n",
        "[ Hints : - Do the Vizualization in  a structured way while following \"UBM\" Rule.\n",
        "\n",
        "U - Univariate Analysis,\n",
        "\n",
        "B - Bivariate Analysis (Numerical - Categorical, Numerical - Numerical, Categorical - Categorical)\n",
        "\n",
        "M - Multivariate Analysis\n",
        " ]\n",
        "\n",
        "\n",
        "\n"
      ],
      "metadata": {
        "id": "ZrxVaUj-hHfC"
      }
    },
    {
      "cell_type": "markdown",
      "source": [
        "# ***Let's Begin !***"
      ],
      "metadata": {
        "id": "O_i_v8NEhb9l"
      }
    },
    {
      "cell_type": "markdown",
      "source": [
        "## ***1. Know Your Data***"
      ],
      "metadata": {
        "id": "HhfV-JJviCcP"
      }
    },
    {
      "cell_type": "markdown",
      "source": [
        "### Import Libraries"
      ],
      "metadata": {
        "id": "Y3lxredqlCYt"
      }
    },
    {
      "cell_type": "code",
      "source": [
        "# Import Libraries\n",
        "import numpy as np\n",
        "import pandas as pd\n",
        "import matplotlib.pyplot as plt\n",
        "%matplotlib inline\n",
        "import seaborn as sns\n",
        "plt.rcParams['figure.figsize'] = (10, 7)"
      ],
      "metadata": {
        "id": "M8Vqi-pPk-HR"
      },
      "execution_count": null,
      "outputs": []
    },
    {
      "cell_type": "markdown",
      "source": [
        "### Dataset Loading"
      ],
      "metadata": {
        "id": "3RnN4peoiCZX"
      }
    },
    {
      "cell_type": "code",
      "source": [
        "from google.colab import drive\n",
        "drive.mount('/content/drive')"
      ],
      "metadata": {
        "id": "cSAMqLVLrPIK"
      },
      "execution_count": null,
      "outputs": []
    },
    {
      "cell_type": "code",
      "source": [
        "# Load Dataset\n",
        "bnb_df = pd.read_csv('/content/Airbnb NYC 2019.csv')"
      ],
      "metadata": {
        "id": "4CkvbW_SlZ_R"
      },
      "execution_count": null,
      "outputs": []
    },
    {
      "cell_type": "markdown",
      "source": [
        "### Dataset First View"
      ],
      "metadata": {
        "id": "x71ZqKXriCWQ"
      }
    },
    {
      "cell_type": "code",
      "source": [
        "#Checking the first 5 values of the dataframe\n",
        "\n",
        "bnb_df.head(5)"
      ],
      "metadata": {
        "id": "LWNFOSvLl09H"
      },
      "execution_count": null,
      "outputs": []
    },
    {
      "cell_type": "code",
      "source": [
        "#Checking the last 5 values of the dataframe\n",
        "\n",
        "bnb_df.tail(5)"
      ],
      "metadata": {
        "id": "6MfGFA8Mt5YU"
      },
      "execution_count": null,
      "outputs": []
    },
    {
      "cell_type": "markdown",
      "source": [
        "### Dataset Rows & Columns count"
      ],
      "metadata": {
        "id": "7hBIi_osiCS2"
      }
    },
    {
      "cell_type": "code",
      "source": [
        "# Dataset Rows & Columns count\n",
        "\n",
        "bnb_df.shape"
      ],
      "metadata": {
        "id": "Kllu7SJgmLij"
      },
      "execution_count": null,
      "outputs": []
    },
    {
      "cell_type": "markdown",
      "source": [
        "### Dataset Information"
      ],
      "metadata": {
        "id": "JlHwYmJAmNHm"
      }
    },
    {
      "cell_type": "code",
      "source": [
        "# Dataset Info\n",
        "\n",
        "bnb_df.info()"
      ],
      "metadata": {
        "id": "e9hRXRi6meOf"
      },
      "execution_count": null,
      "outputs": []
    },
    {
      "cell_type": "code",
      "source": [
        "#Checking the type of rooms\n",
        "bnb_df.room_type.value_counts()"
      ],
      "metadata": {
        "id": "E9CDlO5NuKEp"
      },
      "execution_count": null,
      "outputs": []
    },
    {
      "cell_type": "markdown",
      "source": [
        "#### Duplicate Values"
      ],
      "metadata": {
        "id": "35m5QtbWiB9F"
      }
    },
    {
      "cell_type": "code",
      "source": [
        "# Dataset Duplicate Value Count\n",
        "\n",
        "bnb_df.duplicated().sum()"
      ],
      "metadata": {
        "id": "1sLdpKYkmox0"
      },
      "execution_count": null,
      "outputs": []
    },
    {
      "cell_type": "markdown",
      "source": [
        "We can see that there are no duplicate observations, so we can move ahead."
      ],
      "metadata": {
        "id": "qqE_U6KduZh4"
      }
    },
    {
      "cell_type": "markdown",
      "source": [
        "#### Missing Values/Null Values"
      ],
      "metadata": {
        "id": "PoPl-ycgm1ru"
      }
    },
    {
      "cell_type": "code",
      "source": [
        "# Missing Values/Null Values Count\n",
        "\n",
        "bnb_df.isnull().sum()"
      ],
      "metadata": {
        "id": "GgHWkxvamxVg"
      },
      "execution_count": null,
      "outputs": []
    },
    {
      "cell_type": "code",
      "source": [
        "# Deleting the observations with null values.\n",
        "\n",
        "bnb_df.dropna(inplace=True)"
      ],
      "metadata": {
        "id": "3q5wnI3om9sJ"
      },
      "execution_count": null,
      "outputs": []
    },
    {
      "cell_type": "markdown",
      "source": [
        "### What did you know about your dataset?"
      ],
      "metadata": {
        "id": "H0kj-8xxnORC"
      }
    },
    {
      "cell_type": "markdown",
      "source": [
        "Answer Here\n",
        "\n",
        "We can see that we have 16 columns and 48,895 observations. To better understand the dataset let's see what each column means.\n",
        "\n",
        "id : A unique id given to each airbnb lisitng.\n",
        "\n",
        "name : The Ad title for the listing on Airbnb website.\n",
        "\n",
        "host_id : A unique id given to an Airbnb host.\n",
        "\n",
        "host_name : The name with which the host is registered.\n",
        "\n",
        "neighbourhood_group : A group of areas/neighbourhoods.\n",
        "\n",
        "neighbourhood : Name of a particular area/ neighbourhood.\n",
        "\n",
        "latitude : latitudinal coordinate of the listing.\n",
        "\n",
        "longitude : longitudinal coordinate of listing.\n",
        "\n",
        "room_type : listing type(1 of 3 types) - 1.Entire Home/apartment, 2.Private room, 3.Shared room.\n",
        "\n",
        "price : price of the listing.\n",
        "\n",
        "minimum_nights : Minimum number of nights required to stay in a single visit.\n",
        "\n",
        "number_of_reviews : The total number of reviews given by visitors.\n",
        "\n",
        "last_review : date of the last recorded review.\n",
        "\n",
        "reviews_per_month : The number of reviews given per month for a listing.\n",
        "\n",
        "calculated_host_listings_count : the total number of listings registered under a given host.\n",
        "\n",
        "availability_365 : the number of days for which a listing is available in a year."
      ],
      "metadata": {
        "id": "gfoNAAC-nUe_"
      }
    },
    {
      "cell_type": "markdown",
      "source": [
        "## ***2. Understanding Your Variables***"
      ],
      "metadata": {
        "id": "nA9Y7ga8ng1Z"
      }
    },
    {
      "cell_type": "code",
      "source": [
        "# Dataset Columns\n",
        "\n",
        "bnb_df.columns"
      ],
      "metadata": {
        "id": "j7xfkqrt5Ag5"
      },
      "execution_count": null,
      "outputs": []
    },
    {
      "cell_type": "code",
      "source": [
        "# Dataset Describe\n",
        "bnb_df.describe()"
      ],
      "metadata": {
        "id": "DnOaZdaE5Q5t"
      },
      "execution_count": null,
      "outputs": []
    },
    {
      "cell_type": "markdown",
      "source": [
        "Here we can see that there are price values which are 0. This doesn't make sense because I don't think so people would put up listing for free. We will impute values for these wrong observations."
      ],
      "metadata": {
        "id": "_Cy2A7Qtvmzg"
      }
    },
    {
      "cell_type": "markdown",
      "source": [
        "### Variables Description"
      ],
      "metadata": {
        "id": "PBTbrJXOngz2"
      }
    },
    {
      "cell_type": "markdown",
      "source": [
        "id: The unique identifier for each Airbnb listing.\n",
        "\n",
        "name: The name or title of the listing.\n",
        "\n",
        "host_id: The unique identifier for the host of the listing.\n",
        "\n",
        "host_name: The name of the host.\n",
        "\n",
        "neighbourhood_group: The larger administrative area or region within which the listing is situated.\n",
        "\n",
        "neighbourhood: The specific neighborhood or district where the listing is located.\n",
        "\n",
        "latitude: The latitude coordinates of the listing's location.\n",
        "\n",
        "longitude: The longitude coordinates of the listing's location.\n",
        "\n",
        "room_type: The type of accommodation offered (e.g., entire home/\n",
        "apartment, private room, shared room).\n",
        "\n",
        "price: The nightly price for renting the listing.\n",
        "\n",
        "minimum_nights: The minimum number of nights required for booking the listing.\n",
        "\n",
        "number_of_reviews: The total number of reviews the listing has received.\n",
        "\n",
        "last_review: The date of the most recent review.\n",
        "\n",
        "reviews_per_month: The average number of reviews per month.\n",
        "\n",
        "calculated_host_listings_count: The number of listings the host has.\n",
        "\n",
        "availability_365: The number of days the listing is available for booking within the next 365 days."
      ],
      "metadata": {
        "id": "aJV4KIxSnxay"
      }
    },
    {
      "cell_type": "markdown",
      "source": [
        "### Check Unique Values for each variable."
      ],
      "metadata": {
        "id": "u3PMJOP6ngxN"
      }
    },
    {
      "cell_type": "code",
      "source": [
        "# Check Unique Values for each variable.\n",
        "\n",
        "bnb_df.nunique()"
      ],
      "metadata": {
        "id": "anw3NsMlvVzo"
      },
      "execution_count": null,
      "outputs": []
    },
    {
      "cell_type": "markdown",
      "source": [
        "## 3. ***Data Wrangling***"
      ],
      "metadata": {
        "id": "dauF4eBmngu3"
      }
    },
    {
      "cell_type": "markdown",
      "source": [
        "### Data Wrangling Code"
      ],
      "metadata": {
        "id": "bKJF3rekwFvQ"
      }
    },
    {
      "cell_type": "markdown",
      "source": [
        "Now I will be removing a few columns (last_review, reviews_per_month, latitude and longitude), because I don't see them adding any value to the questions I have to answer."
      ],
      "metadata": {
        "id": "QlfgRq3vvLrt"
      }
    },
    {
      "cell_type": "code",
      "source": [
        "#Removing unnecessary columns\n",
        "\n",
        "bnb_df.drop(['latitude','longitude','last_review','reviews_per_month'],axis=1,inplace=True)"
      ],
      "metadata": {
        "id": "0biS4WPDSj_T"
      },
      "execution_count": null,
      "outputs": []
    },
    {
      "cell_type": "code",
      "source": [
        "#Getting values where price is 0\n",
        "\n",
        "bnb_df[bnb_df['price']==0]"
      ],
      "metadata": {
        "id": "81Of6qSNKaTb"
      },
      "execution_count": null,
      "outputs": []
    },
    {
      "cell_type": "code",
      "source": [
        "bnb_df[bnb_df['price']==0].shape"
      ],
      "metadata": {
        "id": "A_vbFiByL3WQ"
      },
      "execution_count": null,
      "outputs": []
    },
    {
      "cell_type": "markdown",
      "source": [
        "So there are 10 observations with price as 0 which need to be treated.\n",
        "We will achieve this by imputing values based on minimum number of nights and their average price."
      ],
      "metadata": {
        "id": "1U8Hw570xbiI"
      }
    },
    {
      "cell_type": "code",
      "source": [
        "# performing groupby to find average price for different no. minimum night\n",
        "\n",
        "bnb_df.groupby('minimum_nights')['price'].mean().reset_index()"
      ],
      "metadata": {
        "id": "t9V4NDB7OHeb"
      },
      "execution_count": null,
      "outputs": []
    },
    {
      "cell_type": "code",
      "source": [
        "#function for imputing average value of price wherever price is 0\n",
        "def price_inputer(min_nights_list,bnb_df):\n",
        "  for i in min_nights_list:\n",
        "    avg_val = bnb_df[bnb_df['minimum_nights']==i].groupby('minimum_nights')['price'].mean().reset_index().loc[0][1]\n",
        "    bnb_df['price']=np.where((bnb_df['price']==0)&(bnb_df['minimum_nights']==i),avg_val,bnb_df['price'])"
      ],
      "metadata": {
        "id": "Zv5qTba1O88_"
      },
      "execution_count": null,
      "outputs": []
    },
    {
      "cell_type": "code",
      "source": [
        "#Calling function to impute price values\n",
        "min_nights_list = [1,2,3,4,5,30]\n",
        "price_inputer(min_nights_list,bnb_df)"
      ],
      "metadata": {
        "id": "K8khNq1NSRvL"
      },
      "execution_count": null,
      "outputs": []
    },
    {
      "cell_type": "code",
      "source": [
        "bnb_df[bnb_df['price']==0].shape"
      ],
      "metadata": {
        "id": "cOd2CszYTGk7"
      },
      "execution_count": null,
      "outputs": []
    },
    {
      "cell_type": "markdown",
      "source": [
        "We can see that there are no more observations that have the value for price as 0."
      ],
      "metadata": {
        "id": "5VERXn1MzZJ-"
      }
    },
    {
      "cell_type": "code",
      "source": [
        "#Removing Unimportant Columns\n",
        "\n",
        "main_cols = set(bnb_df.columns)-{'id','host_id'}"
      ],
      "metadata": {
        "id": "Tzdwvix2SF_j"
      },
      "execution_count": null,
      "outputs": []
    },
    {
      "cell_type": "code",
      "source": [
        "#Taking Columns with Numerical Values\n",
        "\n",
        "num_main_cols = bnb_df[main_cols].describe().columns.tolist()\n",
        "# num_main_cols"
      ],
      "metadata": {
        "id": "GAvSHupISqv6"
      },
      "execution_count": null,
      "outputs": []
    },
    {
      "cell_type": "markdown",
      "source": [
        "### What all manipulations have you done and insights you found?\n",
        "\n",
        "1. Understanding the relevance of specific columns: By removing irrelevant columns like id, host_id, latitude, and longitude, i've focused my analysis on variables that are more pertinent to my business objectives, such as property characteristics, location, pricing, and availability.\n",
        "\n",
        "\n",
        "2. Addressing missing or invalid data: Handling zero prices by replacing them with the average price provides a pragmatic approach to dealing with incomplete or erroneous data. This ensures that my analysis can proceed smoothly without encountering issues related to missing values in the price column.\n",
        "\n"
      ],
      "metadata": {
        "id": "MSa1f5Uengrz"
      }
    },
    {
      "cell_type": "markdown",
      "source": [
        "Answer Here."
      ],
      "metadata": {
        "id": "LbyXE7I1olp8"
      }
    },
    {
      "cell_type": "markdown",
      "source": [
        "## ***4. Data Vizualization, Storytelling & Experimenting with charts : Understand the relationships between variables***"
      ],
      "metadata": {
        "id": "GF8Ens_Soomf"
      }
    },
    {
      "cell_type": "markdown",
      "source": [
        "#### Chart - 1\n",
        "Plotting important visualizations to see the skewness and distribution of each variable."
      ],
      "metadata": {
        "id": "0wOQAZs5pc--"
      }
    },
    {
      "cell_type": "code",
      "source": [
        "# Chart - 1 visualization code\n",
        "\n",
        "fig, axes = plt.subplots(nrows=5, ncols=1, figsize=(18, 10))\n",
        "axes = axes.flatten()\n",
        "for col, ax in zip(num_main_cols, axes):\n",
        "    sns.histplot(x=col, data=bnb_df, ax=ax, kde=True, element='poly')\n",
        "    ax.set_title(f'Column {col} skewness : {bnb_df[col].skew()}')\n",
        "\n",
        "plt.tight_layout(h_pad=1, w_pad=0.8)"
      ],
      "metadata": {
        "id": "7v_ESjsspbW7"
      },
      "execution_count": null,
      "outputs": []
    },
    {
      "cell_type": "markdown",
      "source": [
        "##### 1. Why did you pick the specific chart?"
      ],
      "metadata": {
        "id": "K5QZ13OEpz2H"
      }
    },
    {
      "cell_type": "markdown",
      "source": [
        "\n",
        "I chose subplots to plot important visualizations because they allow for simultaneous examination of the skewness and distribution of each variable within a single, compact layout. This efficient approach facilitates quick comparison and identification of patterns across multiple variables, enhancing the depth of analysis"
      ],
      "metadata": {
        "id": "XESiWehPqBRc"
      }
    },
    {
      "cell_type": "markdown",
      "source": [
        "##### 2. What is/are the insight(s) found from the chart?"
      ],
      "metadata": {
        "id": "lQ7QKXXCp7Bj"
      }
    },
    {
      "cell_type": "markdown",
      "source": [
        " Here we can see that all our variables have a positive skewness except availability which is moreover a uniform distribution, this tells us that all kinds of listings are moreover available throughout the year.(We can also see a mild to high rise in count of availability from the end of the year to the start of the year)"
      ],
      "metadata": {
        "id": "C_j1G7yiqdRP"
      }
    },
    {
      "cell_type": "markdown",
      "source": [
        "##### 3. Will the gained insights help creating a positive business impact?\n",
        "Are there any insights that lead to negative growth? Justify with specific reason."
      ],
      "metadata": {
        "id": "448CDAPjqfQr"
      }
    },
    {
      "cell_type": "markdown",
      "source": [
        "\n",
        "Yes, the insights gained from subplots can create a positive business impact by informing strategic decisions. For example, understanding the distribution of prices and occupancy rates can help optimize pricing strategies and target high-demand periods, leading to increased revenue and customer satisfaction."
      ],
      "metadata": {
        "id": "3cspy4FjqxJW"
      }
    },
    {
      "cell_type": "markdown",
      "source": [
        "#### Chart - 2\n",
        "Which host are the Buisiest and why?\n"
      ],
      "metadata": {
        "id": "KSlN3yHqYklG"
      }
    },
    {
      "cell_type": "code",
      "source": [
        "#creating a new busiest hosts dataframe with groupby operations on columns that I think cause a host to be busy.\n",
        "\n",
        "busiest_hosts = bnb_df.groupby(['host_id','host_name','room_type','calculated_host_listings_count'])[['price','number_of_reviews','availability_365']].max().reset_index().sort_values(by=['number_of_reviews','price','availability_365'], ascending=False).head()"
      ],
      "metadata": {
        "id": "R4YgtaqtYklH"
      },
      "execution_count": null,
      "outputs": []
    },
    {
      "cell_type": "code",
      "source": [
        "#Outlook\n",
        "\n",
        "busiest_hosts"
      ],
      "metadata": {
        "id": "8b2y--XZTilP"
      },
      "execution_count": null,
      "outputs": []
    },
    {
      "cell_type": "code",
      "source": [
        "check_list=['price','number_of_reviews','availability_365']"
      ],
      "metadata": {
        "id": "F7YFItlGUXeU"
      },
      "execution_count": null,
      "outputs": []
    },
    {
      "cell_type": "code",
      "source": [
        "#Plotting the visualizations for Question 1\n",
        "fig,axes=plt.subplots(nrows=1,ncols=3,figsize=(15,6))\n",
        "axes.flatten()\n",
        "for col,ax in zip(check_list,axes):\n",
        "  splot= sns.barplot(data=busiest_hosts,x='host_name',y=col,ax=ax,hue=\"host_name\")\n",
        "  for p in splot.patches:\n",
        "    splot.annotate(format(p.get_height(), '.1f'),\n",
        "                   (p.get_x() + p.get_width() / 2., p.get_height()),\n",
        "                   ha = 'center', va = 'center',\n",
        "                   xytext = (0, 9),\n",
        "                   textcoords = 'offset points')\n",
        "  ax.set_title(f'host name vs {col}')"
      ],
      "metadata": {
        "id": "o8O7Euv7T023"
      },
      "execution_count": null,
      "outputs": []
    },
    {
      "cell_type": "markdown",
      "source": [
        "##### 1. Why did you pick the specific chart?"
      ],
      "metadata": {
        "id": "t6dVpIINYklI"
      }
    },
    {
      "cell_type": "markdown",
      "source": [
        "These plots show us that the number of reviews is directly proportional to the popularity of the host. Factors like price and availability also effect the popularity, but the best linear relationship is provided by the number of reviews."
      ],
      "metadata": {
        "id": "5aaW0BYyYklI"
      }
    },
    {
      "cell_type": "markdown",
      "source": [
        "##### 2. What is/are the insight(s) found from the chart?"
      ],
      "metadata": {
        "id": "ijmpgYnKYklI"
      }
    },
    {
      "cell_type": "markdown",
      "source": [
        "This analysis shows us that the busiest hosts are(in order):\n",
        "1. Dona\n",
        "2. JJ\n",
        "3. Maya\n",
        "4. Carol\n",
        "5. Danielle\n",
        "\n",
        "All of them have a good mixture of price(around 60 dollars), availability(around half a year) and number of reviews(around 550) which makes them popular.\n",
        "\n",
        "Another important thing to note is that all of these hosts have private rooms as listings, this could be a very important thing to know while investing money for my dad."
      ],
      "metadata": {
        "id": "PSx9atu2YklI"
      }
    },
    {
      "cell_type": "markdown",
      "source": [
        "##### 3. Will the gained insights help creating a positive business impact?\n",
        "Are there any insights that lead to negative growth? Justify with specific reason."
      ],
      "metadata": {
        "id": "-JiQyfWJYklI"
      }
    },
    {
      "cell_type": "markdown",
      "source": [
        "This knowledge can inform business strategies such as pricing optimization, marketing targeting, and investment decisions, ultimately leading to improved performance and profitability in the rental market."
      ],
      "metadata": {
        "id": "BcBbebzrYklV"
      }
    },
    {
      "cell_type": "markdown",
      "source": [
        "#### Chart - 3\n",
        "For which location do the customers pay the highest rent."
      ],
      "metadata": {
        "id": "EM7whBJCYoAo"
      }
    },
    {
      "cell_type": "code",
      "source": [
        "#Obtaining a dataframe that shows us the maximum price for each location.(Top 30 with highest price)\n",
        "max_price_per_location = bnb_df.groupby('neighbourhood')['price'].max().reset_index().sort_values(['price'],ascending=False).rename(columns={'price':'max_price'}).head(30)\n",
        "plt.figure(figsize=(10,7))\n",
        "ax = sns.barplot(data=max_price_per_location,x='neighbourhood',y='max_price',hue=\"neighbourhood\")\n",
        "ax.set_xticklabels(ax.get_xticklabels(), rotation=40, ha=\"right\")\n",
        "plt.title(\"Maximum price for each locations\")\n",
        "plt.tight_layout()\n",
        "plt.show()"
      ],
      "metadata": {
        "id": "t6GMdE67YoAp"
      },
      "execution_count": null,
      "outputs": []
    },
    {
      "cell_type": "code",
      "source": [
        "#Printing the top 5 neighbourhoods with highest rent\n",
        "print(\"The neighbourhoods with the highest rents are:\")\n",
        "for i in range(5):\n",
        "  print(i+1,'.', max_price_per_location.iloc[i]['neighbourhood'],'with a price of:',max_price_per_location.iloc[i]['max_price'])"
      ],
      "metadata": {
        "id": "aqzPsfR-VsP6"
      },
      "execution_count": null,
      "outputs": []
    },
    {
      "cell_type": "markdown",
      "source": [
        "##### 1. Why did you pick the specific chart?"
      ],
      "metadata": {
        "id": "fge-S5ZAYoAp"
      }
    },
    {
      "cell_type": "markdown",
      "source": [
        "A bar plot allows for easy identification of the top 30 locations with the highest prices, making it suitable for presenting this specific type of data in a visually appealing and interpretable format."
      ],
      "metadata": {
        "id": "5dBItgRVYoAp"
      }
    },
    {
      "cell_type": "markdown",
      "source": [
        "##### 2. What is/are the insight(s) found from the chart?"
      ],
      "metadata": {
        "id": "85gYPyotYoAp"
      }
    },
    {
      "cell_type": "markdown",
      "source": [
        "Here we have the highest rent neighbourhoods.\n",
        "It depends on the type of the house or the part of the area it belongs to"
      ],
      "metadata": {
        "id": "4jstXR6OYoAp"
      }
    },
    {
      "cell_type": "markdown",
      "source": [
        "##### 3. Will the gained insights help creating a positive business impact?\n",
        "Are there any insights that lead to negative growth? Justify with specific reason."
      ],
      "metadata": {
        "id": "RoGjAbkUYoAp"
      }
    },
    {
      "cell_type": "markdown",
      "source": [
        "If rental prices are artificially inflated or exclusionary, it may lead to negative growth by fostering market instability and socio-economic disparities."
      ],
      "metadata": {
        "id": "zfJ8IqMcYoAp"
      }
    },
    {
      "cell_type": "markdown",
      "source": [
        "#### Chart - 4\n",
        "For which location do the customers pay the lowest rent."
      ],
      "metadata": {
        "id": "4Of9eVA-YrdM"
      }
    },
    {
      "cell_type": "code",
      "source": [
        "# Chart - 4 visualization code\n",
        "\n",
        "#Obtaining a dataframe that shows us the minimum price for each location.(Top 30 with lowest price)\n",
        "min_price_per_location = bnb_df.groupby('neighbourhood')['price'].min().reset_index().sort_values(['price'],ascending=True).rename(columns={'price':'min_price'}).head(30)\n",
        "plt.figure(figsize=(10,7))\n",
        "ax = sns.barplot(data=min_price_per_location,x='neighbourhood',y='min_price',hue=\"neighbourhood\")\n",
        "ax.set_xticklabels(ax.get_xticklabels(), rotation=40, ha=\"right\")\n",
        "plt.title(\"Minimum price for each locations\")\n",
        "plt.tight_layout()\n",
        "plt.show()"
      ],
      "metadata": {
        "id": "irlUoxc8YrdO"
      },
      "execution_count": null,
      "outputs": []
    },
    {
      "cell_type": "code",
      "source": [
        "#Printing the top 5 neighbourhoods with lowest rent\n",
        "print(\"The neighbourhoods with the lowest rents are:\")\n",
        "for i in range(5):\n",
        "  print(i+1,'.', min_price_per_location.iloc[i]['neighbourhood'],'with a price of:',min_price_per_location.iloc[i]['min_price'])"
      ],
      "metadata": {
        "id": "JlkuGz-OV0EN"
      },
      "execution_count": null,
      "outputs": []
    },
    {
      "cell_type": "markdown",
      "source": [
        "##### 1. Why did you pick the specific chart?"
      ],
      "metadata": {
        "id": "iky9q4vBYrdO"
      }
    },
    {
      "cell_type": "markdown",
      "source": [
        "A bar plot allows for easy identification of the least 30 locations with the lowest prices, making it suitable for presenting this specific type of data in a visually appealing and interpretable format."
      ],
      "metadata": {
        "id": "aJRCwT6DYrdO"
      }
    },
    {
      "cell_type": "markdown",
      "source": [
        "##### 2. What is/are the insight(s) found from the chart?"
      ],
      "metadata": {
        "id": "F6T5p64dYrdO"
      }
    },
    {
      "cell_type": "markdown",
      "source": [
        "Here we have the lowest rent neighbourhoods. There is a distinct feature observed here, Upper west side and Greenpoint are present in both the lists, this shows that there is high fluctuation of prices in these areas(Maybe it depends on the type of the house or the part of the area it belongs to)."
      ],
      "metadata": {
        "id": "Xx8WAJvtYrdO"
      }
    },
    {
      "cell_type": "markdown",
      "source": [
        "##### 3. Will the gained insights help creating a positive business impact?\n",
        "Are there any insights that lead to negative growth? Justify with specific reason."
      ],
      "metadata": {
        "id": "y-Ehk30pYrdP"
      }
    },
    {
      "cell_type": "markdown",
      "source": [
        "They provide valuable information for renters seeking affordable options and for investors looking for areas with potential for high rental yields. However, it's essential to consider the overall market dynamics, as excessively low rents may indicate underlying issues such as low demand or poor property conditions, which could hinder positive business outcomes in the long term."
      ],
      "metadata": {
        "id": "jLNxxz7MYrdP"
      }
    },
    {
      "cell_type": "markdown",
      "source": [
        "#### Chart - 5\n",
        "Top 5 highest listing areas/locations."
      ],
      "metadata": {
        "id": "bamQiAODYuh1"
      }
    },
    {
      "cell_type": "code",
      "source": [
        "# Chart - 5 visualization code\n",
        "highest_listing_areas = bnb_df.groupby('neighbourhood')['calculated_host_listings_count'].sum().reset_index().sort_values(by='calculated_host_listings_count',ascending=False).head(10)\n"
      ],
      "metadata": {
        "id": "TIJwrbroYuh3"
      },
      "execution_count": null,
      "outputs": []
    },
    {
      "cell_type": "code",
      "source": [
        "highest_listing_areas"
      ],
      "metadata": {
        "id": "PHLFIQuOWntD"
      },
      "execution_count": null,
      "outputs": []
    },
    {
      "cell_type": "code",
      "source": [
        "#Creating a visualization for loctions with highest listing\n",
        "ax = sns.barplot(data=highest_listing_areas,x='neighbourhood',y='calculated_host_listings_count',hue=\"neighbourhood\")\n",
        "for a in ax.patches:\n",
        "    ax.annotate(format(a.get_height(), '.1f'),\n",
        "                   (a.get_x() + a.get_width() / 2., a.get_height()),\n",
        "                   ha = 'center', va = 'center',\n",
        "                   xytext = (0, 9),\n",
        "                   textcoords = 'offset points')\n",
        "ax.set_xticklabels(ax.get_xticklabels(), rotation=40, ha=\"right\")\n",
        "plt.tight_layout()\n",
        "plt.show()"
      ],
      "metadata": {
        "id": "82CRrqTxWx21"
      },
      "execution_count": null,
      "outputs": []
    },
    {
      "cell_type": "code",
      "source": [
        "#Printing the top 5 highest listing areas\n",
        "print(\"The top 5 highest listed areas are:\")\n",
        "for i in range(5):\n",
        "  print(i+1,'.', highest_listing_areas.iloc[i]['neighbourhood'],'with ',highest_listing_areas.iloc[i]['calculated_host_listings_count'],' number of listings')"
      ],
      "metadata": {
        "id": "VJmIg4d7X3rr"
      },
      "execution_count": null,
      "outputs": []
    },
    {
      "cell_type": "markdown",
      "source": [
        "##### 1. Why did you pick the specific chart?"
      ],
      "metadata": {
        "id": "QHF8YVU7Yuh3"
      }
    },
    {
      "cell_type": "markdown",
      "source": [
        "A bar plot allows for easy identification of the top locations with the highest listing counts, making it suitable for presenting this specific type of data in a visually intuitive format."
      ],
      "metadata": {
        "id": "dcxuIMRPYuh3"
      }
    },
    {
      "cell_type": "markdown",
      "source": [
        "##### 2. What is/are the insight(s) found from the chart?"
      ],
      "metadata": {
        "id": "GwzvFGzlYuh3"
      }
    },
    {
      "cell_type": "markdown",
      "source": [
        "Therefore with some straight forward groupby operations we easily have the top 5 areas with the highest number of listings."
      ],
      "metadata": {
        "id": "uyqkiB8YYuh3"
      }
    },
    {
      "cell_type": "markdown",
      "source": [
        "##### 3. Will the gained insights help creating a positive business impact?\n",
        "Are there any insights that lead to negative growth? Justify with specific reason."
      ],
      "metadata": {
        "id": "qYpmQ266Yuh3"
      }
    },
    {
      "cell_type": "markdown",
      "source": [
        "This data can inform various business decisions such as property investment, marketing strategies, and target audience analysis. For example, investors can identify areas with high demand for rental properties, while property managers can tailor their marketing efforts to capitalize on the popularity of these areas. Additionally, understanding which neighborhoods have the highest listing counts can help businesses allocate resources effectively and optimize their operational strategies for maximum profitability."
      ],
      "metadata": {
        "id": "_WtzZ_hCYuh4"
      }
    },
    {
      "cell_type": "markdown",
      "source": [
        "#### Chart - 6  \n",
        "Lowest 5 listing areas/locations."
      ],
      "metadata": {
        "id": "OH-pJp9IphqM"
      }
    },
    {
      "cell_type": "code",
      "source": [
        "# Chart - 6 visualization code\n",
        "lowest_listing_areas = bnb_df.groupby('neighbourhood')['calculated_host_listings_count'].sum().reset_index().sort_values(by='calculated_host_listings_count',ascending=True).head(10)\n"
      ],
      "metadata": {
        "id": "kuRf4wtuphqN"
      },
      "execution_count": null,
      "outputs": []
    },
    {
      "cell_type": "code",
      "source": [
        "lowest_listing_areas"
      ],
      "metadata": {
        "id": "dVV907UmXQbW"
      },
      "execution_count": null,
      "outputs": []
    },
    {
      "cell_type": "code",
      "source": [
        "ax = sns.barplot(data=lowest_listing_areas,x='neighbourhood',y='calculated_host_listings_count',hue=\"neighbourhood\")\n",
        "for a in ax.patches:\n",
        "    ax.annotate(format(a.get_height(), '.1f'),\n",
        "                   (a.get_x() + a.get_width() / 2., a.get_height()),\n",
        "                   ha = 'center', va = 'center',\n",
        "                   xytext = (0, 9),\n",
        "                   textcoords = 'offset points')\n",
        "ax.set_xticklabels(ax.get_xticklabels(), rotation=40, ha=\"right\")\n",
        "plt.tight_layout()\n",
        "plt.show()"
      ],
      "metadata": {
        "id": "J8rq1jXEXkPC"
      },
      "execution_count": null,
      "outputs": []
    },
    {
      "cell_type": "code",
      "source": [
        "#Printing the top 5 highest listing areas\n",
        "print(\"The top 5 lowest listed areas are:\")\n",
        "for i in range(5):\n",
        "  print(i+1,'.', lowest_listing_areas.iloc[i]['neighbourhood'],'with ',lowest_listing_areas.iloc[i]['calculated_host_listings_count'],' number of listings')"
      ],
      "metadata": {
        "id": "YoR3ZK9zX95D"
      },
      "execution_count": null,
      "outputs": []
    },
    {
      "cell_type": "markdown",
      "source": [
        "##### 1. Why did you pick the specific chart?"
      ],
      "metadata": {
        "id": "bbFf2-_FphqN"
      }
    },
    {
      "cell_type": "markdown",
      "source": [
        "A bar plot allows for easy identification of the lowest locations with the lowest listing counts, making it suitable for presenting this specific type of data in a visually intuitive format."
      ],
      "metadata": {
        "id": "loh7H2nzphqN"
      }
    },
    {
      "cell_type": "markdown",
      "source": [
        "##### 2. What is/are the insight(s) found from the chart?"
      ],
      "metadata": {
        "id": "_ouA3fa0phqN"
      }
    },
    {
      "cell_type": "markdown",
      "source": [
        "Therefore with some straight forward groupby operations we easily have the last 5 areas with the lowest number of listings."
      ],
      "metadata": {
        "id": "VECbqPI7phqN"
      }
    },
    {
      "cell_type": "markdown",
      "source": [
        "##### 3. Will the gained insights help creating a positive business impact?\n",
        "Are there any insights that lead to negative growth? Justify with specific reason."
      ],
      "metadata": {
        "id": "Seke61FWphqN"
      }
    },
    {
      "cell_type": "markdown",
      "source": [
        "Understanding these areas with low listing counts allows businesses to explore niche markets, develop targeted marketing strategies, and potentially capture market share in less saturated areas. However, it's essential to conduct further research to assess the demand, feasibility, and potential challenges associated with operating in these areas before making strategic decisions."
      ],
      "metadata": {
        "id": "DW4_bGpfphqN"
      }
    },
    {
      "cell_type": "markdown",
      "source": [
        "#### Chart - 7  \n",
        "What is the average preferred price by the customer for each neighbourhood group and for each room type."
      ],
      "metadata": {
        "id": "PIIx-8_IphqN"
      }
    },
    {
      "cell_type": "code",
      "source": [
        "#Creating a dataframe which shows the average price for different neighbourhood groups\n",
        "avg_pref_price = bnb_df.groupby(['neighbourhood_group','room_type'])['price'].mean().reset_index()"
      ],
      "metadata": {
        "id": "lqAIGUfyphqO"
      },
      "execution_count": null,
      "outputs": []
    },
    {
      "cell_type": "code",
      "source": [
        "#Getting a glimpse of what the dataframe with average prices for different neighbourhood groups looks like\n",
        "avg_pref_price"
      ],
      "metadata": {
        "id": "CTAcjp0JYWRA"
      },
      "execution_count": null,
      "outputs": []
    },
    {
      "cell_type": "code",
      "source": [
        "#creating a visualisation for prices of each neighbourhood group with different room types\n",
        "splot=sns.barplot(data=avg_pref_price,x='neighbourhood_group',y='price',hue='room_type',palette='rainbow')\n",
        "for p in splot.patches:\n",
        "    splot.annotate(format(p.get_height(), '.1f'),\n",
        "                   (p.get_x() + p.get_width() / 2., p.get_height()),\n",
        "                   ha = 'center', va = 'center',\n",
        "                   xytext = (0, 9),\n",
        "                   textcoords = 'offset points')\n",
        "plt.xlabel(\"neighbourhood_group\", size=14)\n",
        "plt.ylabel(\"price\", size=14)"
      ],
      "metadata": {
        "id": "N0tSOAI_Ydar"
      },
      "execution_count": null,
      "outputs": []
    },
    {
      "cell_type": "code",
      "source": [
        "#Creating a dataframe for printing values\n",
        "print_df = bnb_df.groupby(['neighbourhood_group','room_type'])['price'].mean().unstack().reset_index()\n",
        "#Printing the average prices for each neighbourhood group and for different room types\n",
        "print('The average prices are:')\n",
        "for i in range(len(print_df)):\n",
        "  print(print_df.iloc[i]['neighbourhood_group'],':\\n','1. Entire home/apt-',print_df.iloc[i]['Entire home/apt'],\n",
        "        '\\n','2. Private room-',print_df.iloc[i]['Private room'],'\\n','3. Shared room-',print_df.iloc[i]['Shared room'])"
      ],
      "metadata": {
        "id": "jSrifPm6Y_14"
      },
      "execution_count": null,
      "outputs": []
    },
    {
      "cell_type": "markdown",
      "source": [
        "##### 1. Why did you pick the specific chart?"
      ],
      "metadata": {
        "id": "t27r6nlMphqO"
      }
    },
    {
      "cell_type": "markdown",
      "source": [
        "A bar plot to visualize prices of each neighborhood group with different room types because it effectively displays the comparison of prices across multiple categories in a clear and concise manner."
      ],
      "metadata": {
        "id": "iv6ro40sphqO"
      }
    },
    {
      "cell_type": "markdown",
      "source": [
        "##### 2. What is/are the insight(s) found from the chart?"
      ],
      "metadata": {
        "id": "r2jJGEOYphqO"
      }
    },
    {
      "cell_type": "markdown",
      "source": [
        "The visualization precisely shows us the average price preferred by customers for each neighbourhood group(for different room types). For a written approach we can make use of the unstack function and some calculated print statement settings as done in the previous cell."
      ],
      "metadata": {
        "id": "Po6ZPi4hphqO"
      }
    },
    {
      "cell_type": "markdown",
      "source": [
        "##### 3. Will the gained insights help creating a positive business impact?\n",
        "Are there any insights that lead to negative growth? Justify with specific reason."
      ],
      "metadata": {
        "id": "b0JNsNcRphqO"
      }
    },
    {
      "cell_type": "markdown",
      "source": [
        "Additionally, this insight can inform decisions related to property investment, marketing targeting, and overall business planning, ultimately leading to improved customer satisfaction and business performance."
      ],
      "metadata": {
        "id": "xvSq8iUTphqO"
      }
    },
    {
      "cell_type": "markdown",
      "source": [
        "#### Chart - 8\n",
        "What is the percentage of the total number of nights spent for each neighbourhood group."
      ],
      "metadata": {
        "id": "BZR9WyysphqO"
      }
    },
    {
      "cell_type": "code",
      "source": [
        "# Chart - 8 visualization code\n",
        "\n",
        "#Creating a dataframe that represents the total number of nights spent for each neighbourhood group\n",
        "total_nights_per_neighbourhood = bnb_df.groupby('neighbourhood_group')['minimum_nights'].sum().reset_index().sort_values(by='minimum_nights',ascending=False)"
      ],
      "metadata": {
        "id": "TdPTWpAVphqO"
      },
      "execution_count": null,
      "outputs": []
    },
    {
      "cell_type": "code",
      "source": [
        "total_nights_per_neighbourhood"
      ],
      "metadata": {
        "id": "pD6AvfxpZWiZ"
      },
      "execution_count": null,
      "outputs": []
    },
    {
      "cell_type": "code",
      "source": [
        "#Initial preparations for plotting pie chart with percentages\n",
        "neighbourhood_groups_list = list(total_nights_per_neighbourhood['neighbourhood_group'])\n",
        "total_minimum_nights_list = list(total_nights_per_neighbourhood['minimum_nights'])\n",
        "palette_color = sns.color_palette('Set2')\n",
        "explode = (0.025,0.025,0.025,0.025,0.025)"
      ],
      "metadata": {
        "id": "ME-81V9iZiWh"
      },
      "execution_count": null,
      "outputs": []
    },
    {
      "cell_type": "code",
      "source": [
        "#Creating the pie chart visualisation\n",
        "plt.figure(figsize=(9,7))\n",
        "plt.pie(total_minimum_nights_list,labels=neighbourhood_groups_list,colors=palette_color,autopct='%0.01f%%')\n",
        "plt.title(\"Percentage of total number of nights spent for each location\")\n",
        "plt.show()"
      ],
      "metadata": {
        "id": "O7HciekAZkVs"
      },
      "execution_count": null,
      "outputs": []
    },
    {
      "cell_type": "markdown",
      "source": [
        "##### 1. Why did you pick the specific chart?"
      ],
      "metadata": {
        "id": "jj7wYXLtphqO"
      }
    },
    {
      "cell_type": "markdown",
      "source": [
        " It effectively illustrates the distribution of nights spent across different neighborhood groups in a visually appealing and easy-to-understand format. A pie chart allows for quick comparison of proportions and can highlight any disparities or trends in the distribution of nights spent among neighborhood groups."
      ],
      "metadata": {
        "id": "Ob8u6rCTphqO"
      }
    },
    {
      "cell_type": "markdown",
      "source": [
        "##### 2. What is/are the insight(s) found from the chart?"
      ],
      "metadata": {
        "id": "eZrbJ2SmphqO"
      }
    },
    {
      "cell_type": "markdown",
      "source": [
        "<b>From the visualization we can see that the total number of nights spent per location is given by:</b>\n",
        "\n",
        "Manhattan-53.9%\n",
        "\n",
        "Brooklyn-35.5%\n",
        "\n",
        "Queens-8.6%\n",
        "\n",
        "Bronx-1.5%\n",
        "\n",
        "Staten Island-0.5%\n"
      ],
      "metadata": {
        "id": "mZtgC_hjphqO"
      }
    },
    {
      "cell_type": "markdown",
      "source": [
        "##### 3. Will the gained insights help creating a positive business impact?\n",
        "Are there any insights that lead to negative growth? Justify with specific reason."
      ],
      "metadata": {
        "id": "rFu4xreNphqO"
      }
    },
    {
      "cell_type": "markdown",
      "source": [
        " By understanding the popularity of different neighborhoods among guests, businesses can make informed decisions regarding property investment, marketing strategies, and service offerings. This knowledge enables businesses to better cater to customer preferences, optimize resource allocation, and ultimately enhance customer satisfaction and profitability."
      ],
      "metadata": {
        "id": "ey_0qi68phqO"
      }
    },
    {
      "cell_type": "markdown",
      "source": [
        "#### Chart - 9\n",
        "what is the maximum number of review per neighborhood group"
      ],
      "metadata": {
        "id": "YJ55k-q6phqO"
      }
    },
    {
      "cell_type": "code",
      "source": [
        "# Chart - 9 visualization code\n",
        "\n",
        "max_review_per_location = bnb_df.groupby('neighbourhood_group').max().reset_index().sort_values(['number_of_reviews'],ascending=False)\n",
        "plt.figure(figsize=(10,7))\n",
        "ax = sns.barplot(data=max_review_per_location,x='neighbourhood_group',y='number_of_reviews',hue=\"neighbourhood_group\")\n",
        "plt.title(\"Maximum Review for each locations\")\n",
        "plt.tight_layout()\n",
        "plt.show()"
      ],
      "metadata": {
        "id": "B2aS4O1ophqO"
      },
      "execution_count": null,
      "outputs": []
    },
    {
      "cell_type": "code",
      "source": [
        "#Printing the top 5 neighbourhoods with highest rent\n",
        "print(\"The neighbourhoods with the maximum reviews are:\")\n",
        "for i in range(5):\n",
        "  print(i+1,'.', max_review_per_location.iloc[i]['neighbourhood_group'],'with a Reviews of:',max_review_per_location.iloc[i]['number_of_reviews'])"
      ],
      "metadata": {
        "id": "zh_eR6DsfZci"
      },
      "execution_count": null,
      "outputs": []
    },
    {
      "cell_type": "markdown",
      "source": [
        "##### 1. Why did you pick the specific chart?"
      ],
      "metadata": {
        "id": "gCFgpxoyphqP"
      }
    },
    {
      "cell_type": "markdown",
      "source": [
        "It effectively displays the comparison of review counts across different neighborhood groups in a clear and concise manner."
      ],
      "metadata": {
        "id": "TVxDimi2phqP"
      }
    },
    {
      "cell_type": "markdown",
      "source": [
        "##### 2. What is/are the insight(s) found from the chart?"
      ],
      "metadata": {
        "id": "OVtJsKN_phqQ"
      }
    },
    {
      "cell_type": "markdown",
      "source": [
        "The insights reveal the top 5 neighborhoods with the highest number of reviews:\n",
        "\n",
        "Queens with 629 reviews.\n",
        "\n",
        "Manhattan with 607 reviews.\n",
        "\n",
        "Brooklyn with 488 reviews.\n",
        "\n",
        "Staten Island with 333 reviews.\n",
        "\n",
        "Bronx with 321 reviews."
      ],
      "metadata": {
        "id": "ngGi97qjphqQ"
      }
    },
    {
      "cell_type": "markdown",
      "source": [
        "##### 3. Will the gained insights help creating a positive business impact?\n",
        "Are there any insights that lead to negative growth? Justify with specific reason."
      ],
      "metadata": {
        "id": "lssrdh5qphqQ"
      }
    },
    {
      "cell_type": "markdown",
      "source": [
        " Understanding which neighborhoods receive the most reviews indicates areas of high demand and customer satisfaction."
      ],
      "metadata": {
        "id": "tBpY5ekJphqQ"
      }
    },
    {
      "cell_type": "markdown",
      "source": [
        "#### Chart - 10\n",
        "To check is there any relationship between the availability of listings and their prices?"
      ],
      "metadata": {
        "id": "U2RJ9gkRphqQ"
      }
    },
    {
      "cell_type": "code",
      "source": [
        "# Chart - 10 visualization code\n",
        "\n",
        "plt.figure(figsize=(10, 6))\n",
        "plt.scatter(bnb_df['availability_365'], bnb_df['price'], alpha=0.5, color='blue')\n",
        "plt.title('Relationship between Availability and Price')\n",
        "plt.xlabel('Availability (in days)')\n",
        "plt.ylabel('Price')\n",
        "plt.show()"
      ],
      "metadata": {
        "id": "GM7a4YP4phqQ"
      },
      "execution_count": null,
      "outputs": []
    },
    {
      "cell_type": "markdown",
      "source": [
        "##### 1. Why did you pick the specific chart?"
      ],
      "metadata": {
        "id": "1M8mcRywphqQ"
      }
    },
    {
      "cell_type": "markdown",
      "source": [
        "I chose a scatter plot because it's an effective way to visualize the relationship between two continuous variables, in this case, the availability of listings and their prices."
      ],
      "metadata": {
        "id": "8agQvks0phqQ"
      }
    },
    {
      "cell_type": "markdown",
      "source": [
        "##### 2. What is/are the insight(s) found from the chart?"
      ],
      "metadata": {
        "id": "tgIPom80phqQ"
      }
    },
    {
      "cell_type": "markdown",
      "source": [
        "\n",
        "The scatter plot reveals no discernible relationship between Airbnb listing availability and prices. Price fluctuations occur across various availability levels, suggesting diverse factors influence pricing. Outliers hint at unique pricing strategies, while clusters may denote market segments. Understanding these patterns aids in optimizing pricing strategies and meeting diverse customer demands."
      ],
      "metadata": {
        "id": "Qp13pnNzphqQ"
      }
    },
    {
      "cell_type": "markdown",
      "source": [
        "##### 3. Will the gained insights help creating a positive business impact?\n",
        "Are there any insights that lead to negative growth? Justify with specific reason."
      ],
      "metadata": {
        "id": "JMzcOPDDphqR"
      }
    },
    {
      "cell_type": "markdown",
      "source": [
        "By recognizing the lack of a clear relationship between Airbnb listing availability and prices, businesses can adopt more nuanced pricing strategies that consider various factors beyond just availability. Understanding the factors influencing pricing fluctuations, identifying outliers with unique pricing strategies, and recognizing market segments based on price clusters are crucial steps in optimizing pricing strategies to meet diverse customer demands."
      ],
      "metadata": {
        "id": "R4Ka1PC2phqR"
      }
    },
    {
      "cell_type": "markdown",
      "source": [
        "#### Chart - 11\n",
        "Taking the top 10 hosts with the highest average price\n"
      ],
      "metadata": {
        "id": "x-EpHcCOp1ci"
      }
    },
    {
      "cell_type": "code",
      "source": [
        "# Chart - 11 visualization code\n",
        "\n",
        "average_price_by_host = bnb_df.groupby('host_name')['price'].mean()\n",
        "\n",
        "sorted_hosts = average_price_by_host.sort_values(ascending=False)\n",
        "\n",
        "# Taking the top 10 hosts with the highest average price\n",
        "top_10_hosts = sorted_hosts.head(10)\n",
        "\n",
        "# Plotting the bar plot\n",
        "plt.figure(figsize=(10,6))\n",
        "top_10_hosts.plot(kind='bar', color='skyblue')\n",
        "plt.title('Top 10 Hosts with Highest Average Price')\n",
        "plt.xlabel('Host ID')\n",
        "plt.ylabel('Average Price')\n",
        "plt.xticks(rotation=45, ha='right')\n",
        "plt.tight_layout()\n",
        "plt.show()"
      ],
      "metadata": {
        "id": "mAQTIvtqp1cj"
      },
      "execution_count": null,
      "outputs": []
    },
    {
      "cell_type": "markdown",
      "source": [
        "##### 1. Why did you pick the specific chart?"
      ],
      "metadata": {
        "id": "X_VqEhTip1ck"
      }
    },
    {
      "cell_type": "markdown",
      "source": [
        " A bar plot, effectively highlights the differences in average prices among the top hosts."
      ],
      "metadata": {
        "id": "-vsMzt_np1ck"
      }
    },
    {
      "cell_type": "markdown",
      "source": [
        "##### 2. What is/are the insight(s) found from the chart?"
      ],
      "metadata": {
        "id": "8zGJKyg5p1ck"
      }
    },
    {
      "cell_type": "markdown",
      "source": [
        "Olson\n",
        "\n",
        "Rum\n",
        "\n",
        "Jay and Liz\n",
        "\n",
        "Sarah\n",
        "\n",
        "Sarah (2 hosts)\n",
        "\n",
        "Katherine\n",
        "\n",
        "Luxury Property\n",
        "\n",
        "Viberlyn\n",
        "\n",
        "Ilo and Richard\n",
        "\n",
        "Shah\n",
        "\n",
        "These hosts are listed in descending order based on the highest average price of their listings."
      ],
      "metadata": {
        "id": "ZYdMsrqVp1ck"
      }
    },
    {
      "cell_type": "markdown",
      "source": [
        "##### 3. Will the gained insights help creating a positive business impact?\n",
        "Are there any insights that lead to negative growth? Justify with specific reason."
      ],
      "metadata": {
        "id": "PVzmfK_Ep1ck"
      }
    },
    {
      "cell_type": "markdown",
      "source": [
        "Understanding which hosts command higher average prices provides valuable information for businesses to analyze pricing strategies, market positioning, and customer preferences. This insight can help businesses tailor their marketing efforts, optimize pricing strategies, and identify opportunities to enhance profitability and competitiveness in the market."
      ],
      "metadata": {
        "id": "druuKYZpp1ck"
      }
    },
    {
      "cell_type": "markdown",
      "source": [
        "#### Chart - 12\n",
        "Correlation between Average Availability and Average Number of Reviews"
      ],
      "metadata": {
        "id": "n3dbpmDWp1ck"
      }
    },
    {
      "cell_type": "code",
      "source": [
        "# Chart - 12 visualization code\n",
        "average_availability_reviews = bnb_df.groupby('host_id').agg({'availability_365': 'mean', 'number_of_reviews': 'mean'})\n",
        "\n",
        "# Plotting the scatter plot\n",
        "plt.figure(figsize=(10,6))\n",
        "plt.scatter(average_availability_reviews['availability_365'], average_availability_reviews['number_of_reviews'], alpha=0.5)\n",
        "plt.title('Correlation between Average Availability and Average Number of Reviews')\n",
        "plt.xlabel('Average Availability (in days)')\n",
        "plt.ylabel('Average Number of Reviews')\n",
        "plt.tight_layout()\n",
        "plt.show()"
      ],
      "metadata": {
        "id": "bwevp1tKp1ck"
      },
      "execution_count": null,
      "outputs": []
    },
    {
      "cell_type": "markdown",
      "source": [
        "##### 1. Why did you pick the specific chart?"
      ],
      "metadata": {
        "id": "ylSl6qgtp1ck"
      }
    },
    {
      "cell_type": "markdown",
      "source": [
        "This scatter plot will visualize the correlation between the average availability and the average number of reviews for each host."
      ],
      "metadata": {
        "id": "m2xqNkiQp1ck"
      }
    },
    {
      "cell_type": "markdown",
      "source": [
        "##### 2. What is/are the insight(s) found from the chart?"
      ],
      "metadata": {
        "id": "ZWILFDl5p1ck"
      }
    },
    {
      "cell_type": "markdown",
      "source": [
        " Each point on the plot represents a host, with the x-coordinate indicating the average availability and the y-coordinate representing the average number of reviews. Adjust the parameters as needed to suit your visualization preferences."
      ],
      "metadata": {
        "id": "x-lUsV2mp1ck"
      }
    },
    {
      "cell_type": "markdown",
      "source": [
        "##### 3. Will the gained insights help creating a positive business impact?\n",
        "Are there any insights that lead to negative growth? Justify with specific reason."
      ],
      "metadata": {
        "id": "M7G43BXep1ck"
      }
    },
    {
      "cell_type": "markdown",
      "source": [
        "By analyzing this relationship through the scatter plot, businesses can identify patterns that may influence pricing strategies and customer satisfaction levels. This insight can aid in optimizing listing availability to maximize occupancy rates while maintaining positive review ratings, ultimately contributing to a positive business impact."
      ],
      "metadata": {
        "id": "5wwDJXsLp1cl"
      }
    },
    {
      "cell_type": "markdown",
      "source": [
        "#### Chart - 13\n",
        "What is the distribution of room types among Airbnb listings?"
      ],
      "metadata": {
        "id": "Ag9LCva-p1cl"
      }
    },
    {
      "cell_type": "code",
      "source": [
        "# Chart - 13 visualization code\n",
        "room_type_distribution = bnb_df['room_type'].value_counts()\n",
        "\n",
        "# Plotting the distribution as a pie chart\n",
        "plt.figure(figsize=(8, 6))\n",
        "plt.pie(room_type_distribution, labels=room_type_distribution.index, autopct='%0.01f%%', startangle=140)\n",
        "plt.title('Distribution of Room Types Among Airbnb Listings')\n",
        "plt.show()"
      ],
      "metadata": {
        "id": "EUfxeq9-p1cl"
      },
      "execution_count": null,
      "outputs": []
    },
    {
      "cell_type": "markdown",
      "source": [
        "##### 1. Why did you pick the specific chart?"
      ],
      "metadata": {
        "id": "E6MkPsBcp1cl"
      }
    },
    {
      "cell_type": "markdown",
      "source": [
        "It effectively illustrates the proportion of each room type in the dataset in a visually intuitive manner."
      ],
      "metadata": {
        "id": "V22bRsFWp1cl"
      }
    },
    {
      "cell_type": "markdown",
      "source": [
        "##### 2. What is/are the insight(s) found from the chart?"
      ],
      "metadata": {
        "id": "2cELzS2fp1cl"
      }
    },
    {
      "cell_type": "markdown",
      "source": [
        "Entire room: 52.3%\n",
        "\n",
        "Private room: 45.5%\n",
        "\n",
        "Shared room: 2.2%"
      ],
      "metadata": {
        "id": "ozQPc2_Ip1cl"
      }
    },
    {
      "cell_type": "markdown",
      "source": [
        "##### 3. Will the gained insights help creating a positive business impact?\n",
        "Are there any insights that lead to negative growth? Justify with specific reason."
      ],
      "metadata": {
        "id": "3MPXvC8up1cl"
      }
    },
    {
      "cell_type": "markdown",
      "source": [
        "Understanding the proportion of each room type allows businesses to tailor their marketing strategies, pricing models, and property management approaches to better meet customer preferences and market demand."
      ],
      "metadata": {
        "id": "GL8l1tdLp1cl"
      }
    },
    {
      "cell_type": "markdown",
      "source": [
        "#### Chart - 14\n",
        "Correlation Heatmap"
      ],
      "metadata": {
        "id": "NC_X3p0fY2L0"
      }
    },
    {
      "cell_type": "code",
      "source": [
        "# Correlation Heatmap visualization code\n",
        "\n",
        "corr_matrix = bnb_df.corr()\n",
        "sns.heatmap(corr_matrix,annot=True)\n",
        "plt.show()"
      ],
      "metadata": {
        "id": "xyC9zolEZNRQ"
      },
      "execution_count": null,
      "outputs": []
    },
    {
      "cell_type": "markdown",
      "source": [
        "##### 1. Why did you pick the specific chart?"
      ],
      "metadata": {
        "id": "UV0SzAkaZNRQ"
      }
    },
    {
      "cell_type": "markdown",
      "source": [
        "A heatmap to visualize the correlation matrix between different variables because it provides a clear and concise representation of the relationships among multiple variables. Heatmaps use color gradients to indicate the strength and direction of correlations, making it easy to identify patterns and associations in the data."
      ],
      "metadata": {
        "id": "DVPuT8LYZNRQ"
      }
    },
    {
      "cell_type": "markdown",
      "source": [
        "##### 2. What is/are the insight(s) found from the chart?"
      ],
      "metadata": {
        "id": "YPEH6qLeZNRQ"
      }
    },
    {
      "cell_type": "markdown",
      "source": [
        "Strong positive correlations (values close to 1) indicate that as one variable increases, the other tends to increase as well.\n",
        "\n",
        "Strong negative correlations (values close to -1) indicate that as one variable increases, the other tends to decrease.\n",
        "\n",
        "Weak correlations (values close to 0) suggest little to no linear relationship between variables."
      ],
      "metadata": {
        "id": "bfSqtnDqZNRR"
      }
    },
    {
      "cell_type": "markdown",
      "source": [
        "#### Chart - 15\n",
        "Pair Plot"
      ],
      "metadata": {
        "id": "q29F0dvdveiT"
      }
    },
    {
      "cell_type": "code",
      "source": [
        "# Pair Plot visualization code\n",
        "\n",
        "sns.pairplot(data=bnb_df)"
      ],
      "metadata": {
        "id": "o58-TEIhveiU"
      },
      "execution_count": null,
      "outputs": []
    },
    {
      "cell_type": "markdown",
      "source": [
        "##### 1. Why did you pick the specific chart?"
      ],
      "metadata": {
        "id": "EXh0U9oCveiU"
      }
    },
    {
      "cell_type": "markdown",
      "source": [
        "A pair plot allows for a quick examination of pairwise relationships, making it easier to identify patterns, correlations, and potential outliers."
      ],
      "metadata": {
        "id": "eMmPjTByveiU"
      }
    },
    {
      "cell_type": "markdown",
      "source": [
        "##### 2. What is/are the insight(s) found from the chart?"
      ],
      "metadata": {
        "id": "22aHeOlLveiV"
      }
    },
    {
      "cell_type": "markdown",
      "source": [
        "Correlation: Identifying the strength and direction of correlations between variables. Positive correlations suggest that as one variable increases, the other tends to increase as well, while negative correlations suggest the opposite.\n",
        "\n",
        "Distribution: Observing the distribution of individual variables and identifying any deviations from normality or potential outliers.\n",
        "\n",
        "Trends: Detecting any linear or nonlinear trends between variables, which can provide insights into potential relationships or patterns in the data.\n",
        "\n",
        "Clusters: Identifying clusters or groups of observations that may indicate distinct subpopulations within the dataset.\n",
        "\n",
        "Interactions: Examining interactions between variables, particularly in the context of predictive modeling or understanding causal relationships."
      ],
      "metadata": {
        "id": "uPQ8RGwHveiV"
      }
    },
    {
      "cell_type": "markdown",
      "source": [
        "## **5. Solution to Business Objective**"
      ],
      "metadata": {
        "id": "JcMwzZxoAimU"
      }
    },
    {
      "cell_type": "markdown",
      "source": [
        "#### What do you suggest the client to achieve Business Objective ?\n",
        "Explain Briefly."
      ],
      "metadata": {
        "id": "8G2x9gOozGDZ"
      }
    },
    {
      "cell_type": "markdown",
      "source": [
        "\n",
        "**Based on the insights obtained, here are some recommendations for the client to achieve their business objectives:**\n",
        "\n",
        "Pricing Optimization: Utilize the positive skewness of most variables to refine pricing strategies. Consider factors such as location, room type, and availability to set competitive prices and maximize revenue.\n",
        "\n",
        "Host Engagement: Encourage hosts like Dona, JJ, Maya, Carol, and Danielle, who have a high number of reviews and a good mixture of price and availability, to maintain their quality standards and potentially offer incentives for continued excellence.\n",
        "\n",
        "Investment Decisions: Explore opportunities in neighborhoods with high rental prices like Astoria, Greenpoint, and Tribeca, while considering areas with lower rents for cost-effective investments. Focus on neighborhoods with high demand for listings, such as those with the highest number of reviews.\n",
        "\n",
        "Market Segmentation: Analyze the distribution of room types among listings and tailor marketing strategies to target customers based on their preferences. Adjust offerings to meet the demand for different accommodation types in each neighborhood group.\n",
        "\n",
        "Customer Satisfaction: Continue to prioritize customer satisfaction by maintaining high-quality listings and responsive host services. Monitor trends in the total number of nights spent per location to gauge demand and adapt offerings accordingly.\n",
        "\n",
        "Continuous Improvement: Regularly review and analyze data, including correlations between variables and feedback from guests, to identify areas for improvement and innovation. Implement strategies to address any observed patterns or trends in the data.\n",
        "\n",
        "Overall, by leveraging these insights and recommendations, the client can optimize operations, enhance customer satisfaction, and maximize profitability in the Airbnb rental market."
      ],
      "metadata": {
        "id": "pASKb0qOza21"
      }
    },
    {
      "cell_type": "markdown",
      "source": [
        "# **Conclusion**"
      ],
      "metadata": {
        "id": "gCX9965dhzqZ"
      }
    },
    {
      "cell_type": "markdown",
      "source": [
        "In summary, the knowledge acquired from the thorough examination of the Airbnb dataset offers insightful advice for successfully accomplishing company goals. The pricing variables' observed positive skewness points to potential areas for revenue-maximizing pricing strategy optimisation. Furthermore, knowing which neighbourhoods have the highest and lowest rents as well as which hosts are the busiest can provide important information for marketing and investment decisions.\n",
        "\n",
        "\n",
        "Comprehending the allocation of room categories across listings facilitates focused marketing endeavours that cater to a wide range of consumer inclinations. Moreover, market demand and customer satisfaction data help to sustain responsive host services and premium listings.\n",
        "\n",
        "Through consistent trend monitoring and utilisation of data-driven insights, enterprises can adjust to evolving market conditions and foster ongoing enhancement. In the end, companies can improve customer satisfaction, boost profitability, and keep a competitive edge in the Airbnb rental market by putting these insights into practice.\n"
      ],
      "metadata": {
        "id": "Fjb1IsQkh3yE"
      }
    },
    {
      "cell_type": "markdown",
      "source": [
        "### ***Hurrah! You have successfully completed your EDA Capstone Project !!!***"
      ],
      "metadata": {
        "id": "gIfDvo9L0UH2"
      }
    }
  ]
}